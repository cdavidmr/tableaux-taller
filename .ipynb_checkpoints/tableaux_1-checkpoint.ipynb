{
 "cells": [
  {
   "cell_type": "code",
   "execution_count": 10,
   "id": "f7efe490-b833-49eb-bf39-6116fb4da271",
   "metadata": {},
   "outputs": [],
   "source": [
    "from random import choice\n",
    "##############################################################################\n",
    "# Variables globales\n",
    "##############################################################################\n",
    "\n",
    "# Crea los conectivos\n",
    "conectivos = ['Y', 'O', '>', '=']\n",
    "# Crea las letras minúsculas a-z\n",
    "letrasProposicionales = [chr(x) for x in range(97, 123)]\n",
    "# inicializa la lista de interpretaciones\n",
    "listaInterpsVerdaderas = []\n",
    "# inicializa la lista de hojas\n",
    "listaHojas = []\n",
    "\n",
    "##############################################################################\n",
    "# Definición de objeto tree y funciones de árboles\n",
    "##############################################################################\n",
    "\n",
    "class Tree(object):\n",
    "\tdef __init__(self, label, left, right):\n",
    "\t\tself.left = left\n",
    "\t\tself.right = right\n",
    "\t\tself.label = label\n",
    "\n",
    "def Inorder(f):\n",
    "    # Imprime una formula como cadena dada una formula como arbol\n",
    "    # Input: tree, que es una formula de logica proposicional\n",
    "    # Output: string de la formula\n",
    "\tif f.right == None:\n",
    "\t\treturn f.label\n",
    "\telif f.label == '-':\n",
    "\t\treturn f.label + Inorder(f.right)\n",
    "\telse:\n",
    "\t\treturn \"(\" + Inorder(f.left) + f.label + Inorder(f.right) + \")\"\n",
    "\n",
    "def String2Tree(A):\n",
    "\t# Crea una formula como tree dada una formula como cadena escrita en notacion polaca inversa\n",
    "\t# Input: - A, lista de caracteres con una formula escrita en notacion polaca inversa\n",
    "\t#        - letrasProposicionales, lista de letras proposicionales\n",
    "\t#        - conectivos, lista de conectivos\n",
    "\t# Output: formula como tree\n",
    "\tpila = []\n",
    "\tfor c in A:\n",
    "\t\t# print(\"Examinando \" + str(c))\n",
    "\t\tif c in letrasProposicionales:\n",
    "\t\t\t# print(u\"El símbolo es letra proposicional\")\n",
    "\t\t\tpila.append(Tree(c, None, None))\n",
    "\t\telif c == '-':\n",
    "\t\t\t# print(\"Negamos\")\n",
    "\t\t\tformulaAux = Tree(c, None, pila[-1])\n",
    "\t\t\tdel pila[-1]\n",
    "\t\t\tpila.append(formulaAux)\n",
    "\t\telif c in conectivos:\n",
    "\t\t\t# print(\"Unimos mediante conectivo\")\n",
    "\t\t\tformulaAux = Tree(c, pila[-1], pila[-2])\n",
    "\t\t\tdel pila[-1]\n",
    "\t\t\tdel pila[-1]\n",
    "\t\t\tpila.append(formulaAux)\n",
    "\t\telse:\n",
    "\t\t\tprint(u\"Hay un problema: el símbolo \" + str(c) + \" no se reconoce\")\n",
    "\treturn pila[-1]\n",
    "\n",
    "def Inorder2Tree(A):\n",
    "\tif len(A) == 1:\n",
    "\t\treturn Tree(A[0], None, None)\n",
    "\telif A[0] == '-':\n",
    "\t\treturn Tree(A[0], None, Inorder2Tree(A[1:]))\n",
    "\telif A[0] == \"(\":\n",
    "\t\tcounter = 0 #Contador de parentesis\n",
    "\t\tfor i in range(1, len(A)):\n",
    "\t\t\tif A[i] == \"(\":\n",
    "\t\t\t\tcounter += 1\n",
    "\t\t\telif A[i] == \")\":\n",
    "\t\t\t\tcounter -=1\n",
    "\t\t\telif (A[i] in ['Y', 'O', '>', '=']) and (counter == 0):\n",
    "\t\t\t\treturn Tree(A[i], Inorder2Tree(A[1:i]), Inorder2Tree(A[i + 1:-1]))\n",
    "\telse:\n",
    "\t\treturn -1\n",
    "\n",
    "##############################################################################\n",
    "# Definición de funciones de tableaux\n",
    "##############################################################################\n",
    "\n",
    "def imprime_hoja(H):\n",
    "\tcadena = \"{\"\n",
    "\tprimero = True\n",
    "\tfor f in H:\n",
    "\t\tif primero == True:\n",
    "\t\t\tprimero = False\n",
    "\t\telse:\n",
    "\t\t\tcadena += \", \"\n",
    "\t\tcadena += Inorder(f)\n",
    "\treturn cadena + \"}\"\n",
    "\n",
    "def imprime_listaHojas(L):\n",
    "\tfor h in L:\n",
    "\t\tprint(imprime_hoja(h))\n",
    "\n",
    "def complemento(l):\n",
    "    # Esta función devuelve el complemento de un literal\n",
    "    # Input: l, un literal\n",
    "    # Output: x, un literal\n",
    "    if l.label == \"-\":\n",
    "        return l.right\n",
    "    else:\n",
    "        return Tree(\"-\", None, l)\n",
    "\n",
    "\n",
    "def par_complementario(l):\n",
    "    # Esta función determina si una lista de solo literales\n",
    "    # contiene un par complementario\n",
    "    # Input: l, una lista de literales\n",
    "    # Output: True/False\n",
    "    ls = []\n",
    "    lsc = []\n",
    "    for x in l:\n",
    "        ls.append(Inorder(x))\n",
    "        lsc.append(Inorder(complemento(x)))\n",
    "\n",
    "    for c in lsc:\n",
    "        if c in ls:\n",
    "            return True\n",
    "    return False"
   ]
  },
  {
   "cell_type": "code",
   "execution_count": 11,
   "id": "e0aa5f72-2ce4-46f5-b869-783a2641921c",
   "metadata": {},
   "outputs": [
    {
     "data": {
      "text/plain": [
       "False"
      ]
     },
     "execution_count": 11,
     "metadata": {},
     "output_type": "execute_result"
    }
   ],
   "source": [
    "par_complementario([Tree('1',None,None), Tree('2',None,None), Tree('-',None,Tree('3',None,None)), Tree('1',None,None)])"
   ]
  },
  {
   "cell_type": "code",
   "execution_count": 12,
   "id": "fb688425-eec7-4e8a-a509-37b22ecd4267",
   "metadata": {},
   "outputs": [
    {
     "data": {
      "text/plain": [
       "True"
      ]
     },
     "execution_count": 12,
     "metadata": {},
     "output_type": "execute_result"
    }
   ],
   "source": [
    "par_complementario([Tree('b',None,None), Tree('-',None,Tree('a',None,None)), Tree('-',None,Tree('c',None,None)), Tree('a',None,None), Tree('d',None,None)])"
   ]
  },
  {
   "cell_type": "code",
   "execution_count": 13,
   "id": "671300d1-14e1-4e11-8c64-a893532e6a8b",
   "metadata": {},
   "outputs": [
    {
     "data": {
      "text/plain": [
       "False"
      ]
     },
     "execution_count": 13,
     "metadata": {},
     "output_type": "execute_result"
    }
   ],
   "source": [
    "par_complementario([Tree('-',None,Tree('Z1',None,None)), Tree('S1',None,None), Tree('-',None,Tree('S10',None,None)), Tree('Z10',None,None)])"
   ]
  },
  {
   "cell_type": "code",
   "execution_count": 14,
   "id": "a68aa7ba-6fbc-4bca-b6de-5845fd4682f5",
   "metadata": {},
   "outputs": [
    {
     "data": {
      "text/plain": [
       "True"
      ]
     },
     "execution_count": 14,
     "metadata": {},
     "output_type": "execute_result"
    }
   ],
   "source": [
    "par_complementario([Tree('-',None,Tree('q',None,None)), Tree('-',None,Tree('p',None,None)), Tree('q',None,None), Tree('-',None,Tree('r',None,None))])"
   ]
  },
  {
   "cell_type": "code",
   "execution_count": null,
   "id": "b53032a7-e9d7-49ba-be7d-8792515a218c",
   "metadata": {},
   "outputs": [],
   "source": []
  },
  {
   "cell_type": "code",
   "execution_count": null,
   "id": "8fba68c1-6d20-4068-a383-47b40ba84aae",
   "metadata": {},
   "outputs": [],
   "source": []
  }
 ],
 "metadata": {
  "kernelspec": {
   "display_name": "Python 3 (ipykernel)",
   "language": "python",
   "name": "python3"
  },
  "language_info": {
   "codemirror_mode": {
    "name": "ipython",
    "version": 3
   },
   "file_extension": ".py",
   "mimetype": "text/x-python",
   "name": "python",
   "nbconvert_exporter": "python",
   "pygments_lexer": "ipython3",
   "version": "3.8.10"
  }
 },
 "nbformat": 4,
 "nbformat_minor": 5
}
