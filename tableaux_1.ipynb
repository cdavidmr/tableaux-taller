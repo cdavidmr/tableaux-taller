{
 "cells": [
  {
   "cell_type": "code",
   "execution_count": 252,
   "source": [
    "#-*-coding: utf-8-*-\n",
    "from random import choice\n",
    "##############################################################################\n",
    "# Variables globales\n",
    "##############################################################################\n",
    "\n",
    "# Crea los conectivos\n",
    "conectivos = ['Y', 'O', '>', '=']\n",
    "# Crea las letras minúsculas a-z\n",
    "letrasProposicionales = [chr(x) for x in range(97, 123)]\n",
    "# inicializa la lista de interpretaciones\n",
    "listaInterpsVerdaderas = []\n",
    "# inicializa la lista de hojas\n",
    "listaHojas = []\n",
    "\n",
    "##############################################################################\n",
    "# Definición de objeto tree y funciones de árboles\n",
    "##############################################################################\n",
    "\n",
    "class Tree(object):\n",
    "\tdef __init__(self, label, left, right):\n",
    "\t\tself.left = left\n",
    "\t\tself.right = right\n",
    "\t\tself.label = label\n",
    "\n",
    "def Inorder(f):\n",
    "    # Imprime una formula como cadena dada una formula como arbol\n",
    "    # Input: tree, que es una formula de logica proposicional\n",
    "    # Output: string de la formula\n",
    "\tif f.right == None:\n",
    "\t\treturn f.label\n",
    "\telif f.label == '-':\n",
    "\t\treturn f.label + Inorder(f.right)\n",
    "\telse:\n",
    "\t\treturn \"(\" + Inorder(f.left) + f.label + Inorder(f.right) + \")\"\n",
    "\n",
    "def String2Tree(A):\n",
    "\t# Crea una formula como tree dada una formula como cadena escrita en notacion polaca inversa\n",
    "\t# Input: - A, lista de caracteres con una formula escrita en notacion polaca inversa\n",
    "\t#        - letrasProposicionales, lista de letras proposicionales\n",
    "\t#        - conectivos, lista de conectivos\n",
    "\t# Output: formula como tree\n",
    "\tpila = []\n",
    "\tfor c in A:\n",
    "\t\t# print(\"Examinando \" + str(c))\n",
    "\t\tif c in letrasProposicionales:\n",
    "\t\t\t# print(u\"El símbolo es letra proposicional\")\n",
    "\t\t\tpila.append(Tree(c, None, None))\n",
    "\t\telif c == '-':\n",
    "\t\t\t# print(\"Negamos\")\n",
    "\t\t\tformulaAux = Tree(c, None, pila[-1])\n",
    "\t\t\tdel pila[-1]\n",
    "\t\t\tpila.append(formulaAux)\n",
    "\t\telif c in conectivos:\n",
    "\t\t\t# print(\"Unimos mediante conectivo\")\n",
    "\t\t\tformulaAux = Tree(c, pila[-1], pila[-2])\n",
    "\t\t\tdel pila[-1]\n",
    "\t\t\tdel pila[-1]\n",
    "\t\t\tpila.append(formulaAux)\n",
    "\t\telse:\n",
    "\t\t\tprint(u\"Hay un problema: el símbolo \" + str(c) + \" no se reconoce\")\n",
    "\treturn pila[-1]\n",
    "\n",
    "def Inorder2Tree(A):\n",
    "\tif len(A) == 1:\n",
    "\t\treturn Tree(A[0], None, None)\n",
    "\telif A[0] == '-':\n",
    "\t\treturn Tree(A[0], None, Inorder2Tree(A[1:]))\n",
    "\telif A[0] == \"(\":\n",
    "\t\tcounter = 0 #Contador de parentesis\n",
    "\t\tfor i in range(1, len(A)):\n",
    "\t\t\tif A[i] == \"(\":\n",
    "\t\t\t\tcounter += 1\n",
    "\t\t\telif A[i] == \")\":\n",
    "\t\t\t\tcounter -=1\n",
    "\t\t\telif (A[i] in ['Y', 'O', '>', '=']) and (counter == 0):\n",
    "\t\t\t\treturn Tree(A[i], Inorder2Tree(A[1:i]), Inorder2Tree(A[i + 1:-1]))\n",
    "\telse:\n",
    "\t\treturn -1\n",
    "\n",
    "def list2String(l):\n",
    "\tls = []\n",
    "\tfor f in l:\n",
    "\t\tls.append(Inorder(f))\n",
    "\treturn ls\n",
    "\n",
    "##############################################################################\n",
    "# Definición de funciones de tableaux\n",
    "##############################################################################\n",
    "\n",
    "def imprime_hoja(H):\n",
    "\tcadena = \"{\"\n",
    "\tprimero = True\n",
    "\tfor f in H:\n",
    "\t\tif primero == True:\n",
    "\t\t\tprimero = False\n",
    "\t\telse:\n",
    "\t\t\tcadena += \", \"\n",
    "\t\tcadena += Inorder(f)\n",
    "\treturn cadena + \"}\"\n",
    "\n",
    "def imprime_listaHojas(L):\n",
    "\tfor h in L:\n",
    "\t\tprint(imprime_hoja(h))\n",
    "\n",
    "def complemento(l):\n",
    "\t# Esta función devuelve el complemento de un literal\n",
    "\t# Input: l, un literal\n",
    "\t# Output: x, un literal\n",
    "\tif l.label == \"-\":\n",
    "\t\treturn l.right\n",
    "\telse:\n",
    "\t\treturn Tree(\"-\", None, l)\n",
    "\n",
    "def par_complementario(l):\n",
    "    # Esta función determina si una lista de solo literales\n",
    "    # contiene un par complementario\n",
    "    # Input: l, una lista de literales\n",
    "    # Output: True/False\n",
    "    ls = []\n",
    "    lsc = []\n",
    "    for x in l:\n",
    "        ls.append(Inorder(x))\n",
    "        lsc.append(Inorder(complemento(x)))\n",
    "    for c in lsc:\n",
    "        if c in ls:\n",
    "            return True\n",
    "    return False\n",
    "\n",
    "def es_literal(f):\n",
    "    # Esta función determina si el árbol f es un literal\n",
    "    # Input: f, una fórmula como árbol\n",
    "    # Output: True/False\n",
    "\tif f.right == None:\n",
    "\t\treturn True\n",
    "\telse:\n",
    "\t\tif f.label == \"-\" and f.right.right == None:\n",
    "\t\t\treturn True\n",
    "\treturn False\n",
    "\n",
    "def no_literales(l):\n",
    "    # Esta función determina si una lista de fórmulas contiene\n",
    "    # solo literales\n",
    "    # Input: l, una lista de fórmulas como árboles\n",
    "    # Output: None/f, tal que f no es literal\\\n",
    "\tfor f in l:\n",
    "\t\tif not(es_literal(f)):\n",
    "\t\t\treturn f\n",
    "\treturn None\n",
    "\n",
    "def clasificacion(f):\n",
    "\t# clasifica una fórmula como alfa o beta\n",
    "\t# Input: f, una fórmula como árbol\n",
    "\t# Output: string de la clasificación de la formula\n",
    "\tif f.label =='-':\n",
    "\t\tif f.right.label == '-':\n",
    "\t\t\treturn 'Alfa1'\n",
    "\t\telif f.right.label == 'O':\n",
    "\t\t\treturn 'Alfa3'\n",
    "\t\telif f.right.label == '>':\n",
    "\t\t\treturn 'Alfa4'\n",
    "\t\telif f.right.label == 'Y':\n",
    "\t\t\treturn 'Beta3'\n",
    "\telif f.label == 'Y':\n",
    "\t\treturn 'Alfa2'\n",
    "\telif f.label == '=':\n",
    "\t\treturn 'Alfa5'\n",
    "\telif f.label == 'O':\n",
    "\t\treturn 'Beta1'\n",
    "\telif f.label == '>':\n",
    "\t\treturn 'Beta2'\n",
    "\n",
    "def clasificacion(f):\n",
    "\t# clasifica una fórmula como alfa o beta\n",
    "\t# Input: f, una fórmula como árbol\n",
    "\t# Output: string de la clasificación de la formula\n",
    "\tif f.label =='-':\n",
    "\t\tif f.right.label == '-':\n",
    "\t\t\treturn 'Alfa1'\n",
    "\t\telif f.right.label == 'O':\n",
    "\t\t\treturn 'Alfa3'\n",
    "\t\telif f.right.label == '>':\n",
    "\t\t\treturn 'Alfa4'\n",
    "\t\telif f.right.label == 'Y':\n",
    "\t\t\treturn 'Beta3'\n",
    "\telif f.label == 'Y':\n",
    "\t\treturn 'Alfa2'\n",
    "\telif f.label == '=':\n",
    "\t\treturn 'Alfa5'\n",
    "\telif f.label == 'O':\n",
    "\t\treturn 'Beta1'\n",
    "\telif f.label == '>':\n",
    "\t\treturn 'Beta2'\n",
    "\n",
    "def clasifica_y_extiende(f, h):\n",
    "\t# Extiende listaHojas de acuerdo a la regla respectiva\n",
    "\t# Input: f, una fórmula como árbol\n",
    "\t# \t\t h, una hoja (lista de fórmulas como árboles)\n",
    "\t# Output: no tiene output, pues modifica la variable global listaHojas\n",
    "\n",
    "\tglobal listaHojas\n",
    "\n",
    "\tprint(\"Formula:\", Inorder(f))\n",
    "\tprint(\"Hoja:\", imprime_hoja(h))\n",
    "\n",
    "\tassert(f in h), \"La formula no esta en la lista!\"\n",
    "\n",
    "\tclase = clasificacion(f)\n",
    "\tprint(\"Clasificada como:\", clase)\n",
    "\tassert(clase != None), \"Formula incorrecta \" + imprime_hoja(h)\n",
    "\n",
    "\tif clase == 'Alfa1':\n",
    "\t\taux = [x for x in h if x != f] + [f.right.right]\n",
    "\t\tlistaHojas.remove(h)\n",
    "\t\tlistaHojas.append(aux)\n",
    "\telif clase == 'Alfa2':\n",
    "\t\taux = [x for x in h if x != f] + [f.right] + [f.left]\n",
    "\t\tlistaHojas.remove(h)\n",
    "\t\tlistaHojas.append(aux)\n",
    "\telif clase == 'Alfa3':\n",
    "\t\taux = [x for x in h if x != f] + [Tree('-',None,f.right.left)] + [Tree('-',None,f.right.right)]\n",
    "\t\tlistaHojas.remove(h)\n",
    "\t\tlistaHojas.append(aux)\n",
    "\telif clase == 'Alfa4':\n",
    "\t\taux = [x for x in h if x != f] + [f.right.left] + [Tree('-',None,f.right.right)]\n",
    "\t\tlistaHojas.remove(h)\n",
    "\t\tlistaHojas.append(aux)\n",
    "\telif clase == 'Alfa5':\n",
    "\t\taux = [x for x in h if x != f] + [Tree('>',f.left,f.right)] + [Tree('>',f.right,f.left)]\n",
    "\t\tlistaHojas.remove(h)\n",
    "\t\tlistaHojas.append(aux)\n",
    "\telif clase == 'Beta1':\n",
    "\t\tlistaHojas.remove(h)\n",
    "\t\taux = [x for x in h if x != f] + [f.right]\n",
    "\t\tlistaHojas.append(aux)\n",
    "\t\taux = [x for x in h if x != f] + [f.left]\n",
    "\t\tlistaHojas.append(aux)\n",
    "\t\tpass\n",
    "\telif clase == 'Beta2':\n",
    "\t\tlistaHojas.remove(h)\n",
    "\t\taux = [x for x in h if x != f] + [Tree('-',None,f.right.left)]\n",
    "\t\tlistaHojas.append(aux)\n",
    "\t\taux = [x for x in h if x != f] + [f.right.right]\n",
    "\t\tlistaHojas.append(aux)\n",
    "\telif clase == 'Beta3':\n",
    "\t\tlistaHojas.remove(h)\n",
    "\t\taux = [x for x in h if x != f] + [Tree('-',None,f.right.left)]\n",
    "\t\tlistaHojas.append(aux)\n",
    "\t\taux = [x for x in h if x != f] + [Tree('-',None,f.right.right)]\n",
    "\t\tlistaHojas.append(aux)\n",
    "\n",
    "def Tableaux(f):\n",
    "\n",
    "\t# Algoritmo de creacion de tableau a partir de lista_hojas\n",
    "\t# Imput: - f, una fórmula como string en notación polaca inversa\n",
    "\t# Output: interpretaciones: lista de listas de literales que hacen\n",
    "\t#\t\t verdadera a f\n",
    "\n",
    "\tglobal listaHojas\n",
    "\tglobal listaInterpsVerdaderas\n",
    "\n",
    "\tA = String2Tree(f)\n",
    "\tprint(u'La fórmula introducida es:\\n', Inorder(A))\n",
    "\n",
    "\tlistaHojas = [[A]]\n",
    "\n",
    "\twhile (len(listaHojas) > 0):\n",
    "\t\th = choice(listaHojas)\n",
    "\t\tprint(\"Trabajando con hoja:\\n\", imprime_hoja(h))\n",
    "\t\tx = no_literales(h)\n",
    "\t\tif x == None:\n",
    "\t\t\tif par_complementario(h):\n",
    "\t\t\t\tlistaHojas.remove(h)\n",
    "\t\t\telse:\n",
    "\t\t\t\tlistaInterpsVerdaderas.append(h)\n",
    "\t\t\t\tlistaHojas.remove(h)\n",
    "\t\telse:\n",
    "\t\t\tclasifica_y_extiende(x, h)\n",
    "\n",
    "\treturn listaInterpsVerdaderas"
   ],
   "outputs": [],
   "metadata": {}
  },
  {
   "cell_type": "code",
   "execution_count": 253,
   "source": [
    "par_complementario([Tree('1',None,None), Tree('2',None,None), Tree('-',None,Tree('3',None,None)), Tree('1',None,None)])"
   ],
   "outputs": [
    {
     "output_type": "execute_result",
     "data": {
      "text/plain": [
       "False"
      ]
     },
     "metadata": {},
     "execution_count": 253
    }
   ],
   "metadata": {}
  },
  {
   "cell_type": "code",
   "execution_count": 254,
   "source": [
    "par_complementario([Tree('b',None,None), Tree('-',None,Tree('a',None,None)), Tree('-',None,Tree('c',None,None)), Tree('a',None,None), Tree('d',None,None)])"
   ],
   "outputs": [
    {
     "output_type": "execute_result",
     "data": {
      "text/plain": [
       "True"
      ]
     },
     "metadata": {},
     "execution_count": 254
    }
   ],
   "metadata": {}
  },
  {
   "cell_type": "code",
   "execution_count": 255,
   "source": [
    "par_complementario([Tree('-',None,Tree('Z1',None,None)), Tree('S1',None,None), Tree('-',None,Tree('S10',None,None)), Tree('Z10',None,None)])"
   ],
   "outputs": [
    {
     "output_type": "execute_result",
     "data": {
      "text/plain": [
       "False"
      ]
     },
     "metadata": {},
     "execution_count": 255
    }
   ],
   "metadata": {}
  },
  {
   "cell_type": "code",
   "execution_count": 256,
   "source": [
    "par_complementario([Tree('-',None,Tree('q',None,None)), Tree('-',None,Tree('p',None,None)), Tree('q',None,None), Tree('-',None,Tree('r',None,None))])"
   ],
   "outputs": [
    {
     "output_type": "execute_result",
     "data": {
      "text/plain": [
       "True"
      ]
     },
     "metadata": {},
     "execution_count": 256
    }
   ],
   "metadata": {}
  },
  {
   "cell_type": "code",
   "execution_count": 257,
   "source": [
    "print(list2String([Tree('-',None,Tree('p',None,None)),Tree('q',None,None),Tree('-',None,Tree('p',None,None)),Tree('r',None,None),Tree('-',None,Tree('q',None,None)),Tree('p',None,None)]))\n",
    "no_literales([Tree('-',None,Tree('p',None,None)),Tree('q',None,None),Tree('-',None,Tree('p',None,None)),Tree('r',None,None),Tree('-',None,Tree('q',None,None)),Tree('p',None,None)])"
   ],
   "outputs": [
    {
     "output_type": "stream",
     "name": "stdout",
     "text": [
      "['-p', 'q', '-p', 'r', '-q', 'p']\n"
     ]
    }
   ],
   "metadata": {}
  },
  {
   "cell_type": "code",
   "execution_count": 258,
   "source": [
    "print(list2String([Tree('q',None,None),Tree('-',None,Tree('p',None,None)),Tree('-',None,Tree('-',None,Tree('p',None,None))),Tree('-',None,Tree('q',None,None))]))\n",
    "no_literales([Tree('q',None,None),Tree('-',None,Tree('p',None,None)),Tree('-',None,Tree('-',None,Tree('p',None,None))),Tree('-',None,Tree('q',None,None))])"
   ],
   "outputs": [
    {
     "output_type": "stream",
     "name": "stdout",
     "text": [
      "['q', '-p', '--p', '-q']\n"
     ]
    },
    {
     "output_type": "execute_result",
     "data": {
      "text/plain": [
       "<__main__.Tree at 0x7fc09b4afcd0>"
      ]
     },
     "metadata": {},
     "execution_count": 258
    }
   ],
   "metadata": {}
  },
  {
   "cell_type": "code",
   "execution_count": 259,
   "source": [
    "#-*-coding: utf-8-*-\n",
    "from random import choice\n",
    "##############################################################################\n",
    "# Variables globales\n",
    "##############################################################################\n",
    "\n",
    "# Crea los conectivos\n",
    "conectivos = ['Y', 'O', '>', '=']\n",
    "# Crea las letras minúsculas a-z\n",
    "letrasProposicionales = [chr(x) for x in range(97, 123)]\n",
    "# inicializa la lista de interpretaciones\n",
    "listaInterpsVerdaderas = []\n",
    "# inicializa la lista de hojas\n",
    "listaHojas = []\n",
    "\n",
    "##############################################################################\n",
    "# Definición de objeto tree y funciones de árboles\n",
    "##############################################################################\n",
    "\n",
    "class Tree(object):\n",
    "\tdef __init__(self, label, left, right):\n",
    "\t\tself.left = left\n",
    "\t\tself.right = right\n",
    "\t\tself.label = label\n",
    "\n",
    "def Inorder(f):\n",
    "    # Imprime una formula como cadena dada una formula como arbol\n",
    "    # Input: tree, que es una formula de logica proposicional\n",
    "    # Output: string de la formula\n",
    "\t\"\"\"\n",
    "\tif type(f) == str:\n",
    "\t\treturn f\n",
    "\t\"\"\"\n",
    "\tif f.right == None:\n",
    "\t\treturn f.label\n",
    "\telif f.label == '-':\n",
    "\t\treturn f.label + Inorder(f.right)\n",
    "\telse:\n",
    "\t\treturn \"(\" + Inorder(f.left) + f.label + Inorder(f.right) + \")\"\n",
    "\n",
    "def String2Tree(A):\n",
    "\t# Crea una formula como tree dada una formula como cadena escrita en notacion polaca inversa\n",
    "\t# Input: - A, lista de caracteres con una formula escrita en notacion polaca inversa\n",
    "\t#        - letrasProposicionales, lista de letras proposicionales\n",
    "\t#        - conectivos, lista de conectivos\n",
    "\t# Output: formula como tree\n",
    "\tpila = []\n",
    "\tfor c in A:\n",
    "\t\t# print(\"Examinando \" + str(c))\n",
    "\t\tif c in letrasProposicionales:\n",
    "\t\t\t# print(u\"El símbolo es letra proposicional\")\n",
    "\t\t\tpila.append(Tree(c, None, None))\n",
    "\t\telif c == '-':\n",
    "\t\t\t# print(\"Negamos\")\n",
    "\t\t\tformulaAux = Tree(c, None, pila[-1])\n",
    "\t\t\tdel pila[-1]\n",
    "\t\t\tpila.append(formulaAux)\n",
    "\t\telif c in conectivos:\n",
    "\t\t\t# print(\"Unimos mediante conectivo\")\n",
    "\t\t\tformulaAux = Tree(c, pila[-1], pila[-2])\n",
    "\t\t\tdel pila[-1]\n",
    "\t\t\tdel pila[-1]\n",
    "\t\t\tpila.append(formulaAux)\n",
    "\t\telse:\n",
    "\t\t\tprint(u\"Hay un problema: el símbolo \" + str(c) + \" no se reconoce\")\n",
    "\treturn pila[-1]\n",
    "\n",
    "def Inorder2Tree(A):\n",
    "\tif len(A) == 1:\n",
    "\t\treturn Tree(A[0], None, None)\n",
    "\telif A[0] == '-':\n",
    "\t\treturn Tree(A[0], None, Inorder2Tree(A[1:]))\n",
    "\telif A[0] == \"(\":\n",
    "\t\tcounter = 0 #Contador de parentesis\n",
    "\t\tfor i in range(1, len(A)):\n",
    "\t\t\tif A[i] == \"(\":\n",
    "\t\t\t\tcounter += 1\n",
    "\t\t\telif A[i] == \")\":\n",
    "\t\t\t\tcounter -=1\n",
    "\t\t\telif (A[i] in ['Y', 'O', '>', '=']) and (counter == 0):\n",
    "\t\t\t\treturn Tree(A[i], Inorder2Tree(A[1:i]), Inorder2Tree(A[i + 1:-1]))\n",
    "\telse:\n",
    "\t\treturn -1\n",
    "\n",
    "##############################################################################\n",
    "# Definición de funciones de tableaux\n",
    "##############################################################################\n",
    "\n",
    "def imprime_hoja(H):\n",
    "\tcadena = \"{\"\n",
    "\tprimero = True\n",
    "\tfor f in H:\n",
    "\t\tif primero == True:\n",
    "\t\t\tprimero = False\n",
    "\t\telse:\n",
    "\t\t\tcadena += \", \"\n",
    "\t\tcadena += Inorder(f)\n",
    "\treturn cadena + \"}\"\n",
    "\n",
    "def imprime_listaHojas(L):\n",
    "\tfor h in L:\n",
    "\t\tprint(imprime_hoja(h))\n",
    "\n",
    "def complemento(l):\n",
    "\t# Esta función devuelve el complemento de un literal\n",
    "\t# Input: l, un literal\n",
    "\t# Output: x, un literal\n",
    "\tif l.label == \"-\":\n",
    "\t\treturn l.right\n",
    "\telse:\n",
    "\t\treturn Tree(\"-\", None, l)\n",
    "\n",
    "def par_complementario(l):\n",
    "    # Esta función determina si una lista de solo literales\n",
    "    # contiene un par complementario\n",
    "    # Input: l, una lista de literales\n",
    "    # Output: True/False\n",
    "    ls = []\n",
    "    lsc = []\n",
    "    for x in l:\n",
    "        ls.append(Inorder(x))\n",
    "        lsc.append(Inorder(complemento(x)))\n",
    "    for c in lsc:\n",
    "        if c in ls:\n",
    "            return True\n",
    "    return False\n",
    "\n",
    "def es_literal(f):\n",
    "    # Esta función determina si el árbol f es un literal\n",
    "    # Input: f, una fórmula como árbol\n",
    "    # Output: True/False\n",
    "\tif f.right == None:\n",
    "\t\treturn True\n",
    "\telse:\n",
    "\t\tif f.label == \"-\" and f.right.right == None:\n",
    "\t\t\treturn True\n",
    "\treturn False\n",
    "\n",
    "def no_literales(l):\n",
    "    # Esta función determina si una lista de fórmulas contiene\n",
    "    # solo literales\n",
    "    # Input: l, una lista de fórmulas como árboles\n",
    "    # Output: None/f, tal que f no es literal\\\n",
    "\tfor f in l:\n",
    "\t\tif not(es_literal(f)):\n",
    "\t\t\treturn f\n",
    "\treturn None\n",
    "\n",
    "def clasificacion(f):\n",
    "\t# clasifica una fórmula como alfa o beta\n",
    "\t# Input: f, una fórmula como árbol\n",
    "\t# Output: string de la clasificación de la formula\n",
    "\tif f.label =='-':\n",
    "\t\tif f.right.label == '-':\n",
    "\t\t\treturn 'Alfa1'\n",
    "\t\telif f.right.label == 'O':\n",
    "\t\t\treturn 'Alfa3'\n",
    "\t\telif f.right.label == '>':\n",
    "\t\t\treturn 'Alfa4'\n",
    "\t\telif f.right.label == 'Y':\n",
    "\t\t\treturn 'Beta1'\n",
    "\telif f.label == 'Y':\n",
    "\t\treturn 'Alfa2'\n",
    "\telif f.label == '=':\n",
    "\t\treturn 'Alfa5'\n",
    "\telif f.label == 'O':\n",
    "\t\treturn 'Beta2'\n",
    "\telif f.label == '>':\n",
    "\t\treturn 'Beta3'\n",
    "\n",
    "def clasifica_y_extiende(f, h):\n",
    "\t# Extiende listaHojas de acuerdo a la regla respectiva\n",
    "\t# Input: f, una fórmula como árbol\n",
    "\t# \t\t h, una hoja (lista de fórmulas como árboles)\n",
    "\t# Output: no tiene output, pues modifica la variable global listaHojas\n",
    "\n",
    "\tglobal listaHojas\n",
    "\n",
    "\tprint(\"Formula:\", Inorder(f))\n",
    "\tprint(\"Hoja:\", imprime_hoja(h))\n",
    "\n",
    "\tassert(f in h), \"La formula no esta en la lista!\"\n",
    "\n",
    "\tclase = clasificacion(f)\n",
    "\tprint(\"Clasificada como:\", clase)\n",
    "\tassert(clase != None), \"Formula incorrecta \" + imprime_hoja(h)\n",
    "\n",
    "\tif clase == 'Alfa1':\n",
    "\t\taux = [x for x in h if x != f] + [f.right.right]\n",
    "\t\tlistaHojas.remove(h)\n",
    "\t\tlistaHojas.append(aux)\n",
    "\telif clase == 'Alfa2':\n",
    "\t\taux = [x for x in h if x != f] + [f.right] + [f.left]\n",
    "\t\tlistaHojas.remove(h)\n",
    "\t\tlistaHojas.append(aux)\n",
    "\telif clase == 'Alfa3':\n",
    "\t\taux = [x for x in h if x != f] + [Tree('-',None,f.right.left)] + [Tree('-',None,f.right.right)]\n",
    "\t\tlistaHojas.remove(h)\n",
    "\t\tlistaHojas.append(aux)\n",
    "\telif clase == 'Alfa4':\n",
    "\t\taux = [x for x in h if x != f] + [f.right.left] + [Tree('-',None,f.right.right)]\n",
    "\t\tlistaHojas.remove(h)\n",
    "\t\tlistaHojas.append(aux)\n",
    "\telif clase == 'Alfa5':\n",
    "\t\taux = [x for x in h if x != f] + [Tree('>',f.left,f.right)] + [Tree('>',f.right,f.left)]\n",
    "\t\tlistaHojas.remove(h)\n",
    "\t\tlistaHojas.append(aux)\n",
    "\telif clase == 'Beta2':\n",
    "\t\taux = [x for x in h if x != f] + [f.right]\n",
    "\t\taux2 = [x for x in h if x != f] + [f.left]\n",
    "\t\tlistaHojas.remove(h)\n",
    "\t\tlistaHojas.append(aux)\n",
    "\t\tlistaHojas.append(aux2)\n",
    "\telif clase == 'Beta3':\n",
    "\t\taux = [x for x in h if x != f] + [Tree('-',None,f.right.left)]\n",
    "\t\taux2 = [x for x in h if x != f] + [f.right.right]\n",
    "\t\tlistaHojas.remove(h)\n",
    "\t\tlistaHojas.append(aux)\n",
    "\t\tlistaHojas.append(aux2)\n",
    "\telif clase == 'Beta1':\n",
    "\t\taux = [x for x in h if x != f] + [Tree('-',None,f.right.left)]\n",
    "\t\taux2 = [x for x in h if x != f] + [Tree('-',None,f.right.right)]\n",
    "\t\tlistaHojas.remove(h)\n",
    "\t\tlistaHojas.append(aux)\n",
    "\t\tlistaHojas.append(aux2)\n",
    "\n",
    "def Tableaux(f):\n",
    "\n",
    "\t# Algoritmo de creacion de tableau a partir de lista_hojas\n",
    "\t# Imput: - f, una fórmula como string en notación polaca inversa\n",
    "\t# Output: interpretaciones: lista de listas de literales que hacen\n",
    "\t#\t\t verdadera a f\n",
    "\n",
    "\tglobal listaHojas\n",
    "\tglobal listaInterpsVerdaderas\n",
    "\n",
    "\tA = String2Tree(f)\n",
    "\tprint(u'La formula introducida es:\\n', Inorder(A))\n",
    "\n",
    "\tlistaHojas = [[A]]\n",
    "\n",
    "\twhile (len(listaHojas) > 0):\n",
    "\t\th = choice(listaHojas)\n",
    "\t\tprint(\"Trabajando con hoja:\\n\", imprime_hoja(h))\n",
    "\t\tx = no_literales(h)\n",
    "\t\tif x == None:\n",
    "\t\t\tif par_complementario(h):\n",
    "\t\t\t\tlistaHojas.remove(h)\n",
    "\t\t\telse:\n",
    "\t\t\t\tlistaInterpsVerdaderas.append(h)\n",
    "\t\t\t\tlistaHojas.remove(h)\n",
    "\t\telse:\n",
    "\t\t\tclasifica_y_extiende(x, h)\n",
    "\n",
    "\treturn listaInterpsVerdaderas"
   ],
   "outputs": [],
   "metadata": {}
  },
  {
   "cell_type": "code",
   "execution_count": 260,
   "source": [
    "print(list2String([Tree('p',None,None),Tree('q',None,None),Tree('O',Tree('p',None,None),Tree('q',None,None)),Tree('-',None,Tree('q',None,None)),Tree('-',None,Tree('p',None,None))]))\n",
    "no_literales([Tree('p',None,None),Tree('q',None,None),Tree('O',Tree('p',None,None),Tree('q',None,None)),Tree('-',None,Tree('q',None,None)),Tree('-',None,Tree('p',None,None))])"
   ],
   "outputs": [
    {
     "output_type": "stream",
     "name": "stdout",
     "text": [
      "['p', 'q', '(pOq)', '-q', '-p']\n"
     ]
    },
    {
     "output_type": "execute_result",
     "data": {
      "text/plain": [
       "<__main__.Tree at 0x7fc09b4d34f0>"
      ]
     },
     "metadata": {},
     "execution_count": 260
    }
   ],
   "metadata": {}
  },
  {
   "cell_type": "code",
   "execution_count": 261,
   "source": [
    "print(Inorder(Tree('-',None,Tree('Y',Tree('p',None,None),Tree('q',None,None)))))\n",
    "es_literal(Tree('-',None,Tree('Y',Tree('p',None,None),Tree('q',None,None))))"
   ],
   "outputs": [
    {
     "output_type": "stream",
     "name": "stdout",
     "text": [
      "-(pYq)\n"
     ]
    },
    {
     "output_type": "execute_result",
     "data": {
      "text/plain": [
       "False"
      ]
     },
     "metadata": {},
     "execution_count": 261
    }
   ],
   "metadata": {}
  },
  {
   "cell_type": "code",
   "execution_count": 262,
   "source": [
    "print(Inorder(Tree('alpha',None,None)))\n",
    "es_literal(Tree('alpha',None,None))"
   ],
   "outputs": [
    {
     "output_type": "stream",
     "name": "stdout",
     "text": [
      "alpha\n"
     ]
    },
    {
     "output_type": "execute_result",
     "data": {
      "text/plain": [
       "True"
      ]
     },
     "metadata": {},
     "execution_count": 262
    }
   ],
   "metadata": {}
  },
  {
   "cell_type": "code",
   "execution_count": 263,
   "source": [
    "print(Inorder(Tree('O',Tree('k',None,None),Tree('Y',Tree('i',None,None),Tree('j',None,None)))))\n",
    "es_literal(Tree('O',Tree('k',None,None),Tree('Y',Tree('i',None,None),Tree('j',None,None))))"
   ],
   "outputs": [
    {
     "output_type": "stream",
     "name": "stdout",
     "text": [
      "(kO(iYj))\n"
     ]
    },
    {
     "output_type": "execute_result",
     "data": {
      "text/plain": [
       "False"
      ]
     },
     "metadata": {},
     "execution_count": 263
    }
   ],
   "metadata": {}
  },
  {
   "cell_type": "code",
   "execution_count": 264,
   "source": [
    "print(Inorder(Tree('-',None,Tree('p',None,None))))\n",
    "es_literal(Tree('-',None,Tree('p',None,None)))"
   ],
   "outputs": [
    {
     "output_type": "stream",
     "name": "stdout",
     "text": [
      "-p\n"
     ]
    },
    {
     "output_type": "execute_result",
     "data": {
      "text/plain": [
       "True"
      ]
     },
     "metadata": {},
     "execution_count": 264
    }
   ],
   "metadata": {}
  },
  {
   "cell_type": "code",
   "execution_count": 265,
   "source": [
    "clasificacion(Tree('O',Tree('-',None,Tree('s',None,None)),Tree('Y',Tree('t',None,None),Tree('>',Tree('u',None,None),Tree('v',None,None)))))"
   ],
   "outputs": [
    {
     "output_type": "execute_result",
     "data": {
      "text/plain": [
       "'Beta2'"
      ]
     },
     "metadata": {},
     "execution_count": 265
    }
   ],
   "metadata": {}
  },
  {
   "cell_type": "code",
   "execution_count": 266,
   "source": [
    "f = Inorder2Tree('-(-(r>s)Oq)')\n",
    "h = [f, Inorder2Tree('-p')]\n",
    "listaHojas = [h]\n",
    "clasifica_y_extiende(f, h)\n",
    "imprime_listaHojas(listaHojas)"
   ],
   "outputs": [
    {
     "output_type": "stream",
     "name": "stdout",
     "text": [
      "Formula: -(-(r>s)Oq)\n",
      "Hoja: {-(-(r>s)Oq), -p}\n",
      "Clasificada como: Alfa3\n",
      "{-p, --(r>s), -q}\n"
     ]
    }
   ],
   "metadata": {}
  },
  {
   "cell_type": "code",
   "execution_count": 267,
   "source": [
    "f = Inorder2Tree('-(pO(rYs))')\n",
    "h = [f, Inorder2Tree('q'), Inorder2Tree('p')]\n",
    "listaHojas = [h]\n",
    "clasifica_y_extiende(f, h)\n",
    "imprime_listaHojas(listaHojas)"
   ],
   "outputs": [
    {
     "output_type": "stream",
     "name": "stdout",
     "text": [
      "Formula: -(pO(rYs))\n",
      "Hoja: {-(pO(rYs)), q, p}\n",
      "Clasificada como: Alfa3\n",
      "{q, p, -p, -(rYs)}\n"
     ]
    }
   ],
   "metadata": {}
  },
  {
   "cell_type": "code",
   "execution_count": 268,
   "source": [
    "f = Inorder2Tree('-(rYs)')\n",
    "h = [f, Inorder2Tree('-p')]\n",
    "listaHojas = [h]\n",
    "clasifica_y_extiende(f, h)\n",
    "imprime_listaHojas(listaHojas)"
   ],
   "outputs": [
    {
     "output_type": "stream",
     "name": "stdout",
     "text": [
      "Formula: -(rYs)\n",
      "Hoja: {-(rYs), -p}\n",
      "Clasificada como: Beta1\n",
      "{-p, -r}\n",
      "{-p, -s}\n"
     ]
    }
   ],
   "metadata": {}
  },
  {
   "cell_type": "code",
   "execution_count": 269,
   "source": [
    "f = Inorder2Tree('(pYq)')\n",
    "h = [f, Inorder2Tree('-q')]\n",
    "listaHojas = [h]\n",
    "clasifica_y_extiende(f, h)\n",
    "imprime_listaHojas(listaHojas)"
   ],
   "outputs": [
    {
     "output_type": "stream",
     "name": "stdout",
     "text": [
      "Formula: (pYq)\n",
      "Hoja: {(pYq), -q}\n",
      "Clasificada como: Alfa2\n",
      "{-q, q, p}\n"
     ]
    }
   ],
   "metadata": {}
  },
  {
   "cell_type": "code",
   "execution_count": 270,
   "source": [
    "Tableaux('qpOq-p-YY')"
   ],
   "outputs": [
    {
     "output_type": "stream",
     "name": "stdout",
     "text": [
      "La formula introducida es:\n",
      " ((-pY-q)Y(pOq))\n",
      "Trabajando con hoja:\n",
      " {((-pY-q)Y(pOq))}\n",
      "Formula: ((-pY-q)Y(pOq))\n",
      "Hoja: {((-pY-q)Y(pOq))}\n",
      "Clasificada como: Alfa2\n",
      "Trabajando con hoja:\n",
      " {(pOq), (-pY-q)}\n",
      "Formula: (pOq)\n",
      "Hoja: {(pOq), (-pY-q)}\n",
      "Clasificada como: Beta2\n",
      "Trabajando con hoja:\n",
      " {(-pY-q), p}\n",
      "Formula: (-pY-q)\n",
      "Hoja: {(-pY-q), p}\n",
      "Clasificada como: Alfa2\n",
      "Trabajando con hoja:\n",
      " {p, -q, -p}\n",
      "Trabajando con hoja:\n",
      " {(-pY-q), q}\n",
      "Formula: (-pY-q)\n",
      "Hoja: {(-pY-q), q}\n",
      "Clasificada como: Alfa2\n",
      "Trabajando con hoja:\n",
      " {q, -q, -p}\n"
     ]
    },
    {
     "output_type": "execute_result",
     "data": {
      "text/plain": [
       "[]"
      ]
     },
     "metadata": {},
     "execution_count": 270
    }
   ],
   "metadata": {}
  }
 ],
 "metadata": {
  "interpreter": {
   "hash": "916dbcbb3f70747c44a77c7bcd40155683ae19c65e1c03b4aa3499c5328201f1"
  },
  "kernelspec": {
   "name": "python3",
   "display_name": "Python 3.8.10 64-bit"
  },
  "language_info": {
   "codemirror_mode": {
    "name": "ipython",
    "version": 3
   },
   "file_extension": ".py",
   "mimetype": "text/x-python",
   "name": "python",
   "nbconvert_exporter": "python",
   "pygments_lexer": "ipython3",
   "version": "3.8.10"
  }
 },
 "nbformat": 4,
 "nbformat_minor": 5
}