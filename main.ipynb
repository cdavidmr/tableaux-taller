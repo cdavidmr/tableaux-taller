{
 "cells": [
  {
   "cell_type": "code",
   "execution_count": 15,
   "source": [
    "# -*- coding: utf-8 -*-\n",
    "\n",
    "# Implementación de los tableros semánticos (tableaux)\n",
    "# Input: cadena de la formula en notacion inorder\n",
    "# Output: lista de listas de literales\n",
    "\n",
    "# Importando la libreria tableaux\n",
    "import tableaux as T\n",
    "\n",
    "# Fórmula (en notación polaca inversa)\n",
    "# para obtener uno de sus tableaux\n",
    "formula = \"pq>-rO\"\n",
    "\n",
    "# Se crea el tableau\n",
    "ta = T.Tableaux(formula)\n",
    "\n",
    "# Imprime el resultado en consola\n",
    "if len(ta) == 0:\n",
    "    print('La fórmula es insatisfacible')\n",
    "else:\n",
    "    print('La fórmula es satisfacible.')\n",
    "    print('Las hojas abiertas del tableaux son:')\n",
    "    for l in ta:\n",
    "        print(T.imprime_hoja(l))"
   ],
   "outputs": [
    {
     "output_type": "stream",
     "name": "stdout",
     "text": [
      "La formula introducida es:\n",
      " (rO-(q>p))\n",
      "Trabajando con hoja:\n",
      " {(rO-(q>p))}\n",
      "Formula: (rO-(q>p))\n",
      "Hoja: {(rO-(q>p))}\n",
      "Clasificada como: Beta1\n",
      "Trabajando con hoja:\n",
      " {r}\n",
      "Trabajando con hoja:\n",
      " {-(q>p)}\n",
      "Formula: -(q>p)\n",
      "Hoja: {-(q>p)}\n",
      "Clasificada como: Alfa4\n",
      "Trabajando con hoja:\n",
      " {q, -p}\n",
      "La fórmula es satisfacible.\n",
      "Las hojas abiertas del tableaux son:\n",
      "{r}\n",
      "{q, -p}\n",
      "{r}\n",
      "{q, -p}\n",
      "{r}\n",
      "{q, -p}\n",
      "{q, -p}\n",
      "{r}\n",
      "{r}\n",
      "{q, -p}\n",
      "{r}\n",
      "{q, -p}\n",
      "{r}\n",
      "{q, -p}\n",
      "{r}\n",
      "{q, -p}\n"
     ]
    }
   ],
   "metadata": {}
  },
  {
   "cell_type": "code",
   "execution_count": 16,
   "source": [
    "formula = \"qpOq-p-YY\"\n",
    "ta = T.Tableaux(formula)"
   ],
   "outputs": [
    {
     "output_type": "stream",
     "name": "stdout",
     "text": [
      "La formula introducida es:\n",
      " ((-pY-q)Y(pOq))\n",
      "Trabajando con hoja:\n",
      " {((-pY-q)Y(pOq))}\n",
      "Formula: ((-pY-q)Y(pOq))\n",
      "Hoja: {((-pY-q)Y(pOq))}\n",
      "Clasificada como: Alfa2\n",
      "Trabajando con hoja:\n",
      " {(pOq), (-pY-q)}\n",
      "Formula: (pOq)\n",
      "Hoja: {(pOq), (-pY-q)}\n",
      "Clasificada como: Beta1\n",
      "Trabajando con hoja:\n",
      " {(-pY-q), p}\n",
      "Formula: (-pY-q)\n",
      "Hoja: {(-pY-q), p}\n",
      "Clasificada como: Alfa2\n",
      "Trabajando con hoja:\n",
      " {p, -q, -p}\n",
      "Trabajando con hoja:\n",
      " {(-pY-q), q}\n",
      "Formula: (-pY-q)\n",
      "Hoja: {(-pY-q), q}\n",
      "Clasificada como: Alfa2\n",
      "Trabajando con hoja:\n",
      " {q, -q, -p}\n"
     ]
    }
   ],
   "metadata": {}
  }
 ],
 "metadata": {
  "orig_nbformat": 4,
  "language_info": {
   "name": "python",
   "version": "3.8.10",
   "mimetype": "text/x-python",
   "codemirror_mode": {
    "name": "ipython",
    "version": 3
   },
   "pygments_lexer": "ipython3",
   "nbconvert_exporter": "python",
   "file_extension": ".py"
  },
  "kernelspec": {
   "name": "python3",
   "display_name": "Python 3.8.10 64-bit"
  },
  "interpreter": {
   "hash": "916dbcbb3f70747c44a77c7bcd40155683ae19c65e1c03b4aa3499c5328201f1"
  }
 },
 "nbformat": 4,
 "nbformat_minor": 2
}